{
  "nbformat": 4,
  "nbformat_minor": 0,
  "metadata": {
    "colab": {
      "name": "intel_image_classification.ipynb",
      "version": "0.3.2",
      "provenance": [],
      "machine_shape": "hm"
    },
    "kernelspec": {
      "name": "python3",
      "display_name": "Python 3"
    },
    "accelerator": "GPU"
  },
  "cells": [
    {
      "cell_type": "markdown",
      "metadata": {
        "id": "JMi0hvRokjhZ",
        "colab_type": "text"
      },
      "source": [
        "**Intel Image Classification**\n",
        "\n",
        "->our aim is to classify the given dataset into 6 diferrent classes - glacier, mountain, street, buildings, forest, sea.\n",
        "\n",
        "->We use the help of external libraries like tensorflow to train a DL network(CNN) and classify the images.\n",
        "\n",
        "->Dataset is available in kaggle."
      ]
    },
    {
      "cell_type": "code",
      "metadata": {
        "id": "G7O7okLfyqVt",
        "colab_type": "code",
        "colab": {}
      },
      "source": [
        "#Importing required libraries and functions\n",
        "\n",
        "import cv2\n",
        "import os\n",
        "import glob\n",
        "import matplotlib.pyplot as plt\n",
        "import numpy as np\n",
        "from sklearn.model_selection import train_test_split\n",
        "from tensorflow.keras.layers import Conv2D, MaxPooling2D, AvgPool2D, Dense, Flatten, Dropout, LeakyReLU, ReLU\n",
        "from tensorflow.keras.models import Sequential\n",
        "from sklearn.metrics import confusion_matrix\n",
        "import seaborn as sn\n",
        "import pandas as pd\n",
        "import random"
      ],
      "execution_count": 0,
      "outputs": []
    },
    {
      "cell_type": "markdown",
      "metadata": {
        "id": "TYXE1ooCl2nW",
        "colab_type": "text"
      },
      "source": [
        "**Downloading the image dataset**\n",
        "\n",
        "Next few blocks of code is to download the image from the kaggle website"
      ]
    },
    {
      "cell_type": "code",
      "metadata": {
        "id": "8-Shk9w1u9K4",
        "colab_type": "code",
        "colab": {}
      },
      "source": [
        "! pip install -q kaggle"
      ],
      "execution_count": 0,
      "outputs": []
    },
    {
      "cell_type": "code",
      "metadata": {
        "id": "sZEUOJSKvHSq",
        "colab_type": "code",
        "outputId": "a764843c-7faa-4dea-90df-f8e0118b2f2c",
        "colab": {
          "resources": {
            "http://localhost:8080/nbextensions/google.colab/files.js": {
              "data": "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",
              "ok": true,
              "headers": [
                [
                  "content-type",
                  "application/javascript"
                ]
              ],
              "status": 200,
              "status_text": ""
            }
          },
          "base_uri": "https://localhost:8080/",
          "height": 91
        }
      },
      "source": [
        "from google.colab import files                   #to provide kaggle account credentials of sort\n",
        "files.upload()                                   #you are required to uplade a file named kaggle.json dowmloaded from your kaggle account(API Token)"
      ],
      "execution_count": 3,
      "outputs": [
        {
          "output_type": "display_data",
          "data": {
            "text/html": [
              "\n",
              "     <input type=\"file\" id=\"files-0a55eb9e-9410-4ffa-9abc-5aabb1d0e403\" name=\"files[]\" multiple disabled />\n",
              "     <output id=\"result-0a55eb9e-9410-4ffa-9abc-5aabb1d0e403\">\n",
              "      Upload widget is only available when the cell has been executed in the\n",
              "      current browser session. Please rerun this cell to enable.\n",
              "      </output>\n",
              "      <script src=\"/nbextensions/google.colab/files.js\"></script> "
            ],
            "text/plain": [
              "<IPython.core.display.HTML object>"
            ]
          },
          "metadata": {
            "tags": []
          }
        },
        {
          "output_type": "stream",
          "text": [
            "Saving kaggle.json to kaggle.json\n"
          ],
          "name": "stdout"
        },
        {
          "output_type": "execute_result",
          "data": {
            "text/plain": [
              "{'kaggle.json': b'{\"username\":\"xxxxx\",\"key\":\"yyyyyyyyy\"}'}"
            ]
          },
          "metadata": {
            "tags": []
          },
          "execution_count": 3
        }
      ]
    },
    {
      "cell_type": "code",
      "metadata": {
        "id": "VIV0k88LvM2r",
        "colab_type": "code",
        "colab": {
          "base_uri": "https://localhost:8080/",
          "height": 68
        },
        "outputId": "06ade73a-0a94-4fc4-80fa-17482f4fef32"
      },
      "source": [
        "!mkdir -p ~/.kaggle\n",
        "!cp kaggle.json ~/.kaggle/\n",
        "!chmod 600 ~/.kaggle/kaggle.json\n",
        "!kaggle datasets download -d puneet6060/intel-image-classification"
      ],
      "execution_count": 4,
      "outputs": [
        {
          "output_type": "stream",
          "text": [
            "Downloading intel-image-classification.zip to /content\n",
            " 99% 341M/344M [00:03<00:00, 143MB/s]\n",
            "100% 344M/344M [00:03<00:00, 101MB/s]\n"
          ],
          "name": "stdout"
        }
      ]
    },
    {
      "cell_type": "code",
      "metadata": {
        "id": "9tEWwK_MwaFa",
        "colab_type": "code",
        "outputId": "3e8fca91-4c17-40be-ec3e-043fcaa6dd97",
        "colab": {
          "base_uri": "https://localhost:8080/",
          "height": 34
        }
      },
      "source": [
        "!ls"
      ],
      "execution_count": 5,
      "outputs": [
        {
          "output_type": "stream",
          "text": [
            "intel-image-classification.zip\tkaggle.json  sample_data\n"
          ],
          "name": "stdout"
        }
      ]
    },
    {
      "cell_type": "code",
      "metadata": {
        "id": "GgnPK-IpIzzQ",
        "colab_type": "code",
        "colab": {}
      },
      "source": [
        "!unzip -q \"intel-image-classification.zip\"\n",
        "!unzip -q \"seg_train.zip\"\n",
        "!unzip -q \"seg_test.zip\"\n",
        "!unzip -q \"seg_pred.zip\""
      ],
      "execution_count": 0,
      "outputs": []
    },
    {
      "cell_type": "markdown",
      "metadata": {
        "id": "64QWn5rumBw6",
        "colab_type": "text"
      },
      "source": [
        "**Loading the images**\n",
        "\n",
        "->Images are stored in different categories in 'JPG' format.\n",
        "\n",
        "->We use CV library to read the images and convert it to numpy array"
      ]
    },
    {
      "cell_type": "code",
      "metadata": {
        "id": "S7yED3k8yz4i",
        "colab_type": "code",
        "outputId": "b643bd33-1e04-4673-b64b-c12557bc7a3d",
        "colab": {
          "base_uri": "https://localhost:8080/",
          "height": 119
        }
      },
      "source": [
        "#Getting training images\n",
        "\n",
        "img_train = []\n",
        "img_train_labels = []\n",
        "n_img_train = []\n",
        "n_img_train_labels = []\n",
        "\n",
        "  \n",
        "cnt = -1\n",
        "\n",
        "  \n",
        "img_dir = \"seg_train/\"      # Directory of all images \n",
        "\n",
        "for j in os.listdir(img_dir):\n",
        "  h = os.listdir(img_dir + \"/\" +j)\n",
        "  print(j)\n",
        "  cnt = cnt + 1\n",
        "  count = 0\n",
        "    \n",
        "  for i in h:\n",
        "    \n",
        "    i_dir = img_dir + j + \"/\" + i\n",
        "    \n",
        "    img = cv2.imread(i_dir,1)\n",
        "    img = cv2.resize(img, (150,150))\n",
        "    \n",
        "    count = count + 1\n",
        "    \n",
        "    #Adding noise to the dataset\n",
        "    #Doing only for 150 datapoints as there is not enough RAM in the colab kernel\n",
        "    #Try adding more noise while running on your machine\n",
        "    \n",
        "    if(count < 150):\n",
        "      row,col,ch= img.shape\n",
        "      mean = 0\n",
        "      var = 0.01\n",
        "      sigma = var**0.5\n",
        "      gauss = np.random.normal(mean,sigma,(row,col,ch))\n",
        "      gauss = gauss.reshape(row,col,ch)\n",
        "      noised_img = img + gauss\n",
        "      img_train.append(noised_img)\n",
        "      img_train_labels.append(cnt)\n",
        "     \n",
        "    img_train.append(img)\n",
        "    \n",
        "    img_train_labels.append(cnt)"
      ],
      "execution_count": 7,
      "outputs": [
        {
          "output_type": "stream",
          "text": [
            "glacier\n",
            "street\n",
            "forest\n",
            "mountain\n",
            "sea\n",
            "buildings\n"
          ],
          "name": "stdout"
        }
      ]
    },
    {
      "cell_type": "code",
      "metadata": {
        "id": "2nPREDV9M2T8",
        "colab_type": "code",
        "colab": {}
      },
      "source": [
        "#Getting test images\n",
        "\n",
        "img_test = []\n",
        "img_test_labels = []\n",
        "\n",
        "k=0\n",
        "cnt = -1\n",
        "\n",
        "img_dir = \"seg_test/\"      # Directory of all images \n",
        "\n",
        "for j in os.listdir(img_dir):\n",
        "  h = os.listdir(img_dir  + j)\n",
        "  cnt = cnt + 1\n",
        "    \n",
        "  for i in h:\n",
        "    \n",
        "    i_dir = img_dir + j + \"/\" + i\n",
        "    img = cv2.imread(i_dir,1)\n",
        "    img = cv2.resize(img, (150,150))\n",
        "    img_test.append(img)\n",
        "\n",
        "    img_test_labels.append(cnt)"
      ],
      "execution_count": 0,
      "outputs": []
    },
    {
      "cell_type": "code",
      "metadata": {
        "id": "TcBK9VhN0NIY",
        "colab_type": "code",
        "outputId": "0519cfd7-3909-44ac-e533-fb250dfbef71",
        "colab": {
          "base_uri": "https://localhost:8080/",
          "height": 85
        }
      },
      "source": [
        "print(len(img_train))\n",
        "print(len(img_train_labels))\n",
        "print(len(img_test))\n",
        "print(len(img_test_labels))"
      ],
      "execution_count": 9,
      "outputs": [
        {
          "output_type": "stream",
          "text": [
            "14928\n",
            "14928\n",
            "3000\n",
            "3000\n"
          ],
          "name": "stdout"
        }
      ]
    },
    {
      "cell_type": "code",
      "metadata": {
        "id": "9DNhRBliR_l3",
        "colab_type": "code",
        "outputId": "24fc6300-9a87-486b-d4fa-0a3a3bc34455",
        "colab": {
          "base_uri": "https://localhost:8080/",
          "height": 286
        }
      },
      "source": [
        "#plotting a test image\n",
        "plt.imshow(img_train[1])\n",
        "print(img_train_labels[1])"
      ],
      "execution_count": 10,
      "outputs": [
        {
          "output_type": "stream",
          "text": [
            "0\n"
          ],
          "name": "stdout"
        },
        {
          "output_type": "display_data",
          "data": {
            "image/png": "[encoded data removed]",
            "text/plain": [
              "<Figure size 432x288 with 1 Axes>"
            ]
          },
          "metadata": {
            "tags": []
          }
        }
      ]
    },
    {
      "cell_type": "markdown",
      "metadata": {
        "id": "dclOEwEE6qCC",
        "colab_type": "text"
      },
      "source": [
        "**Processing the input**"
      ]
    },
    {
      "cell_type": "code",
      "metadata": {
        "id": "PeuRXwLdU9NQ",
        "colab_type": "code",
        "outputId": "67ea8b70-29b7-483b-9aad-65338a6b1236",
        "colab": {
          "base_uri": "https://localhost:8080/",
          "height": 85
        }
      },
      "source": [
        "#Converting the list of images to numpy array to feed to our network\n",
        "\n",
        "img_train = np.array(img_train)\n",
        "img_train_labels = np.asarray(img_train_labels)\n",
        "img_test = np.array(img_test)\n",
        "img_test_labels = np.asarray(img_test_labels)\n",
        "\n",
        "print(img_train_labels.shape)\n",
        "print(img_train.shape)\n",
        "print(img_test_labels.shape)\n",
        "print(img_test.shape)"
      ],
      "execution_count": 11,
      "outputs": [
        {
          "output_type": "stream",
          "text": [
            "(14928,)\n",
            "(14928, 150, 150, 3)\n",
            "(3000,)\n",
            "(3000, 150, 150, 3)\n"
          ],
          "name": "stdout"
        }
      ]
    },
    {
      "cell_type": "code",
      "metadata": {
        "id": "lfJjmWJ3kEiv",
        "colab_type": "code",
        "colab": {}
      },
      "source": [
        "\n",
        "#Splitting into train and validation set\n",
        "\n",
        "x_train, x_test, y_train, y_test = train_test_split(img_train, img_train_labels, test_size=0.2, shuffle=True, random_state=10)\n",
        "\n",
        "#Pre-processing the input\n",
        "x_train, x_test = x_train / 255.0, x_test / 255.0\n",
        "img_test = img_test / 255.0"
      ],
      "execution_count": 0,
      "outputs": []
    },
    {
      "cell_type": "code",
      "metadata": {
        "id": "P6epq69Cxz8o",
        "colab_type": "code",
        "outputId": "10deb36e-5c18-436a-c372-61ad95c0b590",
        "colab": {
          "base_uri": "https://localhost:8080/",
          "height": 85
        }
      },
      "source": [
        "print(x_train.shape)\n",
        "print(y_train.shape)\n",
        "print(x_test.shape)\n",
        "print(y_test.shape)"
      ],
      "execution_count": 13,
      "outputs": [
        {
          "output_type": "stream",
          "text": [
            "(11942, 150, 150, 3)\n",
            "(11942,)\n",
            "(2986, 150, 150, 3)\n",
            "(2986,)\n"
          ],
          "name": "stdout"
        }
      ]
    },
    {
      "cell_type": "markdown",
      "metadata": {
        "id": "Tiykk8n36xC9",
        "colab_type": "text"
      },
      "source": [
        "**Defining the model**\n",
        "\n",
        "->Here, I have defined 2 CNN networks.(use any one of them)"
      ]
    },
    {
      "cell_type": "code",
      "metadata": {
        "id": "BlEs5XuPydtt",
        "colab_type": "code",
        "outputId": "2e3ccbd3-7d8e-4a64-ce74-22c4603a2cfa",
        "colab": {
          "base_uri": "https://localhost:8080/",
          "height": 105
        }
      },
      "source": [
        "#Defining the convolutional neural network\n",
        "#16 epoch 81.93% accuracy\n",
        "\n",
        "model = Sequential([\n",
        "    \n",
        "    #Convolutional layers\n",
        "    \n",
        "    Conv2D(16, kernel_size=(3,3), strides=(2,2), input_shape=(150,150,3), activation='relu'),\n",
        "    Dropout(0.25),\n",
        "    MaxPooling2D(pool_size=(3,3), strides=(2,2)),\n",
        "    Conv2D(30, kernel_size=(5,5), strides=(1,1), padding='same', activation='relu'),\n",
        "    Dropout(0.25),\n",
        "    MaxPooling2D(pool_size=(3,3), strides=(1,1)),\n",
        "    Dropout(0.15),\n",
        "    Conv2D(52, kernel_size=(5,5), strides=(2,2), activation='relu'),\n",
        "    Dropout(0.25),\n",
        "    MaxPooling2D(pool_size=(3,3), strides=(2,2)),\n",
        "    Conv2D(84, kernel_size=(5,5), strides=(1,1), padding='same', activation='relu'),\n",
        "    Dropout(0.25),\n",
        "    Flatten(),\n",
        "    \n",
        "    #Linear Layers\n",
        "    \n",
        "   Dense(100, activation='relu'),\n",
        "   Dropout(0.25),\n",
        "   Dense(30, activation='relu'),\n",
        "   Dropout(0.25),\n",
        "   Dense(6, activation='softmax')\n",
        "  \n",
        "])\n"
      ],
      "execution_count": 14,
      "outputs": [
        {
          "output_type": "stream",
          "text": [
            "WARNING: Logging before flag parsing goes to stderr.\n",
            "W0721 12:50:30.584051 139968574109568 deprecation.py:506] From /usr/local/lib/python3.6/dist-packages/tensorflow/python/ops/init_ops.py:1251: calling VarianceScaling.__init__ (from tensorflow.python.ops.init_ops) with dtype is deprecated and will be removed in a future version.\n",
            "Instructions for updating:\n",
            "Call initializer instance with the dtype argument instead of passing it to the constructor\n"
          ],
          "name": "stderr"
        }
      ]
    },
    {
      "cell_type": "code",
      "metadata": {
        "id": "3ZOh8Opfmvcs",
        "colab_type": "code",
        "colab": {}
      },
      "source": [
        "#Defining the convolutional neural network\n",
        "#27 epoch - 82.57%\n",
        "model_v2 = Sequential([\n",
        "    \n",
        "    #Convolutional layers\n",
        "    \n",
        "    Conv2D(10, kernel_size=(3,3), strides=(2,2), input_shape=(150,150,3), activation='relu'),\n",
        "    Dropout(0.25),\n",
        "    MaxPooling2D(pool_size=(5,5), strides=(2,2)),\n",
        "    Conv2D(35, kernel_size=(3,3), strides=(1,1), padding='same', activation='relu'),\n",
        "    Dropout(0.25),\n",
        "    MaxPooling2D(pool_size=(3,3), strides=(2,2)),\n",
        "    Dropout(0.15),\n",
        "    Conv2D(50, kernel_size=(5,5), strides=(1,1), activation='relu'),\n",
        "    Dropout(0.25),\n",
        "    MaxPooling2D(pool_size=(3,3), strides=(2,2)),\n",
        "    Conv2D(80, kernel_size=(5,5), strides=(1,1), padding='same', activation='relu'),\n",
        "    Dropout(0.25),\n",
        "    Flatten(),\n",
        "    \n",
        "    #Linear Layers\n",
        "    \n",
        "    Dense(120, activation='relu'),\n",
        "    Dropout(0.25),\n",
        "    Dense(60, activation='relu'),\n",
        "    Dropout(0.25),\n",
        "    Dense(6, activation='softmax')\n",
        "  \n",
        "])\n"
      ],
      "execution_count": 0,
      "outputs": []
    },
    {
      "cell_type": "code",
      "metadata": {
        "id": "W7nHIbC8GT_B",
        "colab_type": "code",
        "outputId": "7e81c144-a957-4b71-cd08-d00a2ad86976",
        "colab": {
          "base_uri": "https://localhost:8080/",
          "height": 765
        }
      },
      "source": [
        "model.summary()"
      ],
      "execution_count": 16,
      "outputs": [
        {
          "output_type": "stream",
          "text": [
            "Model: \"sequential\"\n",
            "_________________________________________________________________\n",
            "Layer (type)                 Output Shape              Param #   \n",
            "=================================================================\n",
            "conv2d (Conv2D)              (None, 74, 74, 16)        448       \n",
            "_________________________________________________________________\n",
            "dropout (Dropout)            (None, 74, 74, 16)        0         \n",
            "_________________________________________________________________\n",
            "max_pooling2d (MaxPooling2D) (None, 36, 36, 16)        0         \n",
            "_________________________________________________________________\n",
            "conv2d_1 (Conv2D)            (None, 36, 36, 30)        12030     \n",
            "_________________________________________________________________\n",
            "dropout_1 (Dropout)          (None, 36, 36, 30)        0         \n",
            "_________________________________________________________________\n",
            "max_pooling2d_1 (MaxPooling2 (None, 34, 34, 30)        0         \n",
            "_________________________________________________________________\n",
            "dropout_2 (Dropout)          (None, 34, 34, 30)        0         \n",
            "_________________________________________________________________\n",
            "conv2d_2 (Conv2D)            (None, 15, 15, 52)        39052     \n",
            "_________________________________________________________________\n",
            "dropout_3 (Dropout)          (None, 15, 15, 52)        0         \n",
            "_________________________________________________________________\n",
            "max_pooling2d_2 (MaxPooling2 (None, 7, 7, 52)          0         \n",
            "_________________________________________________________________\n",
            "conv2d_3 (Conv2D)            (None, 7, 7, 84)          109284    \n",
            "_________________________________________________________________\n",
            "dropout_4 (Dropout)          (None, 7, 7, 84)          0         \n",
            "_________________________________________________________________\n",
            "flatten (Flatten)            (None, 4116)              0         \n",
            "_________________________________________________________________\n",
            "dense (Dense)                (None, 100)               411700    \n",
            "_________________________________________________________________\n",
            "dropout_5 (Dropout)          (None, 100)               0         \n",
            "_________________________________________________________________\n",
            "dense_1 (Dense)              (None, 30)                3030      \n",
            "_________________________________________________________________\n",
            "dropout_6 (Dropout)          (None, 30)                0         \n",
            "_________________________________________________________________\n",
            "dense_2 (Dense)              (None, 6)                 186       \n",
            "=================================================================\n",
            "Total params: 575,730\n",
            "Trainable params: 575,730\n",
            "Non-trainable params: 0\n",
            "_________________________________________________________________\n"
          ],
          "name": "stdout"
        }
      ]
    },
    {
      "cell_type": "markdown",
      "metadata": {
        "id": "X9mlS-Mi7DYW",
        "colab_type": "text"
      },
      "source": [
        "**Training the model**\n",
        "\n",
        "->Here, I use 'adam' optimizer and 'cross entropy' as loss function.  \n",
        "->I am training the model for 20 epochs"
      ]
    },
    {
      "cell_type": "code",
      "metadata": {
        "id": "ipu5hU694_Ms",
        "colab_type": "code",
        "colab": {}
      },
      "source": [
        "#Setting the training params\n",
        "#Play with the params...\n",
        "\n",
        "model.compile(optimizer='adam', loss='sparse_categorical_crossentropy', metrics=['accuracy'])"
      ],
      "execution_count": 0,
      "outputs": []
    },
    {
      "cell_type": "code",
      "metadata": {
        "id": "amdhoY6U5Lnn",
        "colab_type": "code",
        "outputId": "662bc265-aaa9-4ee9-e416-b3e9174a9ac5",
        "colab": {
          "base_uri": "https://localhost:8080/",
          "height": 952
        }
      },
      "source": [
        "#Training the model\n",
        "\n",
        "trained_model = model.fit(x_train, y_train, epochs=25, validation_data=(x_test, y_test))\n",
        "\n",
        "print('')\n",
        "print('Test accuracy')\n",
        "model.evaluate(img_test, img_test_labels)"
      ],
      "execution_count": 18,
      "outputs": [
        {
          "output_type": "stream",
          "text": [
            "Train on 11942 samples, validate on 2986 samples\n",
            "Epoch 1/25\n",
            "11942/11942 [==============================] - 12s 1ms/sample - loss: 1.2702 - acc: 0.4773 - val_loss: 1.1894 - val_acc: 0.5489\n",
            "Epoch 2/25\n",
            "11942/11942 [==============================] - 9s 733us/sample - loss: 1.0117 - acc: 0.5965 - val_loss: 0.9808 - val_acc: 0.6705\n",
            "Epoch 3/25\n",
            "11942/11942 [==============================] - 9s 774us/sample - loss: 0.8975 - acc: 0.6616 - val_loss: 0.8586 - val_acc: 0.7066\n",
            "Epoch 4/25\n",
            "11942/11942 [==============================] - 10s 806us/sample - loss: 0.7852 - acc: 0.7148 - val_loss: 0.8230 - val_acc: 0.7314\n",
            "Epoch 5/25\n",
            "11942/11942 [==============================] - 9s 795us/sample - loss: 0.7087 - acc: 0.7507 - val_loss: 0.7589 - val_acc: 0.7364\n",
            "Epoch 6/25\n",
            "11942/11942 [==============================] - 10s 825us/sample - loss: 0.6485 - acc: 0.7824 - val_loss: 0.7359 - val_acc: 0.7478\n",
            "Epoch 7/25\n",
            "11942/11942 [==============================] - 9s 759us/sample - loss: 0.5834 - acc: 0.7974 - val_loss: 0.6809 - val_acc: 0.7455\n",
            "Epoch 8/25\n",
            "11942/11942 [==============================] - 9s 767us/sample - loss: 0.5556 - acc: 0.8067 - val_loss: 0.6500 - val_acc: 0.7763\n",
            "Epoch 9/25\n",
            "11942/11942 [==============================] - 10s 852us/sample - loss: 0.5180 - acc: 0.8204 - val_loss: 0.5885 - val_acc: 0.7890\n",
            "Epoch 10/25\n",
            "11942/11942 [==============================] - 10s 868us/sample - loss: 0.5155 - acc: 0.8221 - val_loss: 0.7086 - val_acc: 0.7545\n",
            "Epoch 11/25\n",
            "11942/11942 [==============================] - 10s 878us/sample - loss: 0.4903 - acc: 0.8322 - val_loss: 0.5233 - val_acc: 0.8078\n",
            "Epoch 12/25\n",
            "11942/11942 [==============================] - 10s 823us/sample - loss: 0.4567 - acc: 0.8399 - val_loss: 0.5527 - val_acc: 0.8192\n",
            "Epoch 13/25\n",
            "11942/11942 [==============================] - 10s 816us/sample - loss: 0.4422 - acc: 0.8468 - val_loss: 0.5915 - val_acc: 0.7997\n",
            "Epoch 14/25\n",
            "11942/11942 [==============================] - 10s 851us/sample - loss: 0.4437 - acc: 0.8520 - val_loss: 0.5518 - val_acc: 0.8098\n",
            "Epoch 15/25\n",
            "11942/11942 [==============================] - 10s 817us/sample - loss: 0.4224 - acc: 0.8528 - val_loss: 0.5935 - val_acc: 0.7947\n",
            "Epoch 16/25\n",
            "11942/11942 [==============================] - 10s 808us/sample - loss: 0.3828 - acc: 0.8691 - val_loss: 0.5502 - val_acc: 0.8081\n",
            "Epoch 17/25\n",
            "11942/11942 [==============================] - 10s 798us/sample - loss: 0.3872 - acc: 0.8649 - val_loss: 0.4962 - val_acc: 0.8282\n",
            "Epoch 18/25\n",
            "11942/11942 [==============================] - 10s 817us/sample - loss: 0.3678 - acc: 0.8706 - val_loss: 0.5900 - val_acc: 0.7887\n",
            "Epoch 19/25\n",
            "11942/11942 [==============================] - 11s 912us/sample - loss: 0.3695 - acc: 0.8726 - val_loss: 0.5417 - val_acc: 0.8192\n",
            "Epoch 20/25\n",
            "11942/11942 [==============================] - 11s 880us/sample - loss: 0.3422 - acc: 0.8775 - val_loss: 0.5349 - val_acc: 0.8141\n",
            "Epoch 21/25\n",
            "11942/11942 [==============================] - 10s 867us/sample - loss: 0.3280 - acc: 0.8849 - val_loss: 0.5702 - val_acc: 0.8001\n",
            "Epoch 22/25\n",
            "11942/11942 [==============================] - 10s 832us/sample - loss: 0.3311 - acc: 0.8854 - val_loss: 0.6071 - val_acc: 0.7957\n",
            "Epoch 23/25\n",
            "11942/11942 [==============================] - 10s 820us/sample - loss: 0.3014 - acc: 0.8911 - val_loss: 0.5783 - val_acc: 0.7991\n",
            "Epoch 24/25\n",
            "11942/11942 [==============================] - 10s 855us/sample - loss: 0.3105 - acc: 0.8906 - val_loss: 0.6990 - val_acc: 0.7492\n",
            "Epoch 25/25\n",
            "11942/11942 [==============================] - 10s 871us/sample - loss: 0.2987 - acc: 0.8933 - val_loss: 0.5648 - val_acc: 0.8044\n",
            "\n",
            "Test accuracy\n",
            "3000/3000 [==============================] - 2s 585us/sample - loss: 0.5865 - acc: 0.7993\n"
          ],
          "name": "stdout"
        },
        {
          "output_type": "execute_result",
          "data": {
            "text/plain": [
              "[0.5865223539595803, 0.79933333]"
            ]
          },
          "metadata": {
            "tags": []
          },
          "execution_count": 18
        }
      ]
    },
    {
      "cell_type": "markdown",
      "metadata": {
        "id": "8GPcm_wG7n6S",
        "colab_type": "text"
      },
      "source": [
        "**Visualisations**"
      ]
    },
    {
      "cell_type": "code",
      "metadata": {
        "id": "jVvwI-dV44qX",
        "colab_type": "code",
        "outputId": "9f7c5dfd-5d77-4635-ba7b-ded36a0a7212",
        "colab": {
          "base_uri": "https://localhost:8080/",
          "height": 573
        }
      },
      "source": [
        "plt.plot(trained_model.history['acc'])\n",
        "plt.plot(trained_model.history['val_acc'])\n",
        "plt.title('Model accuracy')\n",
        "plt.ylabel('Accuracy')\n",
        "plt.xlabel('Epoch')\n",
        "plt.legend(['Train', 'Val'], loc='upper left')\n",
        "plt.show()\n",
        "\n",
        "plt.plot(trained_model.history['loss'])\n",
        "plt.plot(trained_model.history['val_loss'])\n",
        "plt.title('Model loss')\n",
        "plt.ylabel('Loss')\n",
        "plt.xlabel('Epoch')\n",
        "plt.legend(['Train', 'Val'], loc='upper left')\n",
        "plt.show()"
      ],
      "execution_count": 19,
      "outputs": [
        {
          "output_type": "display_data",
          "data": {
            "image/png": "[encoded data removed]",
            "text/plain": [
              "<Figure size 432x288 with 1 Axes>"
            ]
          },
          "metadata": {
            "tags": []
          }
        },
        {
          "output_type": "display_data",
          "data": {
            "image/png": "[encoded data removed]",
            "text/plain": [
              "<Figure size 432x288 with 1 Axes>"
            ]
          },
          "metadata": {
            "tags": []
          }
        }
      ]
    },
    {
      "cell_type": "code",
      "metadata": {
        "id": "c_51KGoDRL7q",
        "colab_type": "code",
        "outputId": "e19fe066-5595-41bc-b12b-95e0f4ec4abd",
        "colab": {
          "base_uri": "https://localhost:8080/",
          "height": 884
        }
      },
      "source": [
        "#Plotting a heatmap using the confusion matrix\n",
        "pred = model.predict(img_test)\n",
        "p = np.argmax(pred, axis=1)\n",
        "\n",
        "results = confusion_matrix(img_test_labels, p) \n",
        "\n",
        "df_cm = pd.DataFrame(results, index = [i for i in os.listdir(\"seg_train\")], columns = [i for i in os.listdir(\"seg_train\")])\n",
        "plt.figure(figsize = (15,15))\n",
        "\n",
        "sn.heatmap(df_cm, annot=True, cmap=\"Blues\")"
      ],
      "execution_count": 20,
      "outputs": [
        {
          "output_type": "execute_result",
          "data": {
            "text/plain": [
              "<matplotlib.axes._subplots.AxesSubplot at 0x7f4c991a4198>"
            ]
          },
          "metadata": {
            "tags": []
          },
          "execution_count": 20
        },
        {
          "output_type": "display_data",
          "data": {
            "image/png": "[encoded data removed]",
            "text/plain": [
              "<Figure size 1080x1080 with 2 Axes>"
            ]
          },
          "metadata": {
            "tags": []
          }
        }
      ]
    },
    {
      "cell_type": "markdown",
      "metadata": {
        "id": "Hw78nS4M8H9M",
        "colab_type": "text"
      },
      "source": [
        "**Insights from  the visualisations**\n",
        "\n",
        "1)From the graph:  \n",
        "        ->In the 'Model Loss' graph we can see that after around 16 epoch, validation loss begins to increase.\n",
        "           so, it is good to stop training the model there to prevent overfitting.\n",
        "  \n",
        "2)From the heatmap:  \n",
        "        ->We can see that there is large error in deciding between a mountain and glacier, this may be because several\n",
        "            icy mountain may resemble glacier or vice-versa.  \n",
        "        ->Many misclassifications also can be seen in street and building, as a street image might contain buildings."
      ]
    }
  ]
}